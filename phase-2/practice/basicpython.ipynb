{
 "cells": [
  {
   "cell_type": "markdown",
   "id": "cb7e4bc7",
   "metadata": {},
   "source": [
    "Map Function\n"
   ]
  },
  {
   "cell_type": "code",
   "execution_count": 3,
   "id": "6743de25",
   "metadata": {},
   "outputs": [],
   "source": [
    "import numpy as np"
   ]
  },
  {
   "cell_type": "code",
   "execution_count": 1,
   "id": "ab911670",
   "metadata": {},
   "outputs": [],
   "source": [
    "def function(num):\n",
    "  if num%2==0:\n",
    "    return \"num {} is even\".format(num)\n",
    "  return \"num {} is odd\".format(num)"
   ]
  },
  {
   "cell_type": "code",
   "execution_count": 12,
   "id": "fac525e3",
   "metadata": {},
   "outputs": [
    {
     "data": {
      "text/plain": [
       "array([30, 31, 32, 33, 34, 35, 36])"
      ]
     },
     "execution_count": 12,
     "metadata": {},
     "output_type": "execute_result"
    }
   ],
   "source": [
    "lst=np.arange(np.random.randint(40),np.random.randint(40))\n",
    "lst"
   ]
  },
  {
   "cell_type": "code",
   "execution_count": 13,
   "id": "86c51dd3",
   "metadata": {},
   "outputs": [
    {
     "data": {
      "text/plain": [
       "['num 30 is even',\n",
       " 'num 31 is odd',\n",
       " 'num 32 is even',\n",
       " 'num 33 is odd',\n",
       " 'num 34 is even',\n",
       " 'num 35 is odd',\n",
       " 'num 36 is even']"
      ]
     },
     "execution_count": 13,
     "metadata": {},
     "output_type": "execute_result"
    }
   ],
   "source": [
    "list(map(function,lst))"
   ]
  },
  {
   "cell_type": "markdown",
   "id": "7a419c3f",
   "metadata": {},
   "source": [
    "LAMBDA FUNCTION (ANONYMUS FUNCTION)"
   ]
  },
  {
   "cell_type": "code",
   "execution_count": null,
   "id": "45775425",
   "metadata": {},
   "outputs": [],
   "source": [
    "def function(a,b):\n",
    "  return a+b\n",
    "#lambda works for one line functions"
   ]
  },
  {
   "cell_type": "code",
   "execution_count": 15,
   "id": "63a5a479",
   "metadata": {},
   "outputs": [
    {
     "data": {
      "text/plain": [
       "15"
      ]
     },
     "execution_count": 15,
     "metadata": {},
     "output_type": "execute_result"
    }
   ],
   "source": [
    "function(5,10)"
   ]
  },
  {
   "cell_type": "code",
   "execution_count": 16,
   "id": "9ac622ff",
   "metadata": {},
   "outputs": [],
   "source": [
    "x=lambda a,b:a+b"
   ]
  },
  {
   "cell_type": "code",
   "execution_count": 17,
   "id": "1b309bfd",
   "metadata": {},
   "outputs": [
    {
     "data": {
      "text/plain": [
       "11"
      ]
     },
     "execution_count": 17,
     "metadata": {},
     "output_type": "execute_result"
    }
   ],
   "source": [
    "x(5,6)"
   ]
  },
  {
   "cell_type": "code",
   "execution_count": 24,
   "id": "786e84dc",
   "metadata": {},
   "outputs": [],
   "source": [
    "even_or_odd=lambda a:'even' if a%2==0 else \"odd\""
   ]
  },
  {
   "cell_type": "code",
   "execution_count": 25,
   "id": "61fbea17",
   "metadata": {},
   "outputs": [
    {
     "data": {
      "text/plain": [
       "'even'"
      ]
     },
     "execution_count": 25,
     "metadata": {},
     "output_type": "execute_result"
    }
   ],
   "source": [
    "even_or_odd(60)"
   ]
  },
  {
   "cell_type": "code",
   "execution_count": 26,
   "id": "20201fd7",
   "metadata": {},
   "outputs": [],
   "source": [
    "add= lambda a,b,c:a+b+c"
   ]
  },
  {
   "cell_type": "code",
   "execution_count": 27,
   "id": "d709570f",
   "metadata": {},
   "outputs": [
    {
     "data": {
      "text/plain": [
       "15"
      ]
     },
     "execution_count": 27,
     "metadata": {},
     "output_type": "execute_result"
    }
   ],
   "source": [
    "add(4,5,6)"
   ]
  },
  {
   "cell_type": "markdown",
   "id": "56c88c18",
   "metadata": {},
   "source": [
    "FILTER FUNCTION"
   ]
  },
  {
   "cell_type": "code",
   "execution_count": 28,
   "id": "4927176e",
   "metadata": {},
   "outputs": [],
   "source": [
    "def function(a):\n",
    "  return a%2==0"
   ]
  },
  {
   "cell_type": "code",
   "execution_count": 42,
   "id": "d01fd728",
   "metadata": {},
   "outputs": [
    {
     "data": {
      "text/plain": [
       "array([ 9, 10, 11, 12, 13, 14, 15, 16, 17, 18, 19, 20, 21, 22, 23, 24])"
      ]
     },
     "execution_count": 42,
     "metadata": {},
     "output_type": "execute_result"
    }
   ],
   "source": [
    "lst=np.arange(np.random.randint(40),np.random.randint(41))\n",
    "lst"
   ]
  },
  {
   "cell_type": "code",
   "execution_count": 43,
   "id": "8afdd708",
   "metadata": {},
   "outputs": [
    {
     "data": {
      "text/plain": [
       "[10, 12, 14, 16, 18, 20, 22, 24]"
      ]
     },
     "execution_count": 43,
     "metadata": {},
     "output_type": "execute_result"
    }
   ],
   "source": [
    "[int(x) for x in filter(function,lst)]"
   ]
  },
  {
   "cell_type": "code",
   "execution_count": 45,
   "id": "0b7d59db",
   "metadata": {},
   "outputs": [
    {
     "data": {
      "text/plain": [
       "[10, 12, 14, 16, 18, 20, 22, 24]"
      ]
     },
     "execution_count": 45,
     "metadata": {},
     "output_type": "execute_result"
    }
   ],
   "source": [
    "[int(x) for x in filter(lambda num: num%2==0,lst)]"
   ]
  },
  {
   "cell_type": "code",
   "execution_count": 50,
   "id": "cc0e713a",
   "metadata": {},
   "outputs": [
    {
     "data": {
      "text/plain": [
       "[2, 4, 6, 8]"
      ]
     },
     "execution_count": 50,
     "metadata": {},
     "output_type": "execute_result"
    }
   ],
   "source": [
    "#if\n",
    "lst=[1,2,3,4,5,6,7,8,9]\n",
    "list(filter(lambda x:x%2==0,lst))"
   ]
  },
  {
   "cell_type": "markdown",
   "id": "3df0db5e",
   "metadata": {},
   "source": [
    "LIST COMPREHENSION"
   ]
  },
  {
   "cell_type": "code",
   "execution_count": null,
   "id": "6922966a",
   "metadata": {},
   "outputs": [
    {
     "data": {
      "text/plain": [
       "[1, 4, 9, 16, 25, 36]"
      ]
     },
     "execution_count": 53,
     "metadata": {},
     "output_type": "execute_result"
    }
   ],
   "source": [
    "lst1=[]\n",
    "def function(lst):\n",
    "  for i in lst:\n",
    "    lst1.append(i**2)\n",
    "  return lst1\n",
    "function([1,2,3,4,5,6])"
   ]
  },
  {
   "cell_type": "code",
   "execution_count": 54,
   "id": "57e2b077",
   "metadata": {},
   "outputs": [
    {
     "data": {
      "text/plain": [
       "[1, 4, 9, 16, 25, 36]"
      ]
     },
     "execution_count": 54,
     "metadata": {},
     "output_type": "execute_result"
    }
   ],
   "source": [
    "lst=[1,2,3,4,5,6]\n",
    "[i**2 for i in lst]#list comprehension"
   ]
  },
  {
   "cell_type": "markdown",
   "id": "255e7812",
   "metadata": {},
   "source": [
    "FORMATTING"
   ]
  },
  {
   "cell_type": "code",
   "execution_count": 57,
   "id": "f5c5dfc0",
   "metadata": {},
   "outputs": [
    {
     "data": {
      "text/plain": [
       "'hello me. Damn you are 26 years old'"
      ]
     },
     "execution_count": 57,
     "metadata": {},
     "output_type": "execute_result"
    }
   ],
   "source": [
    "def function(a,b):\n",
    "  return \"hello {}. Damn you are {} years old\".format(a,b)\n",
    "function(\"me\",26)"
   ]
  },
  {
   "cell_type": "markdown",
   "id": "ef9311e3",
   "metadata": {},
   "source": [
    "ITERABLESVS TIERATORS"
   ]
  },
  {
   "cell_type": "code",
   "execution_count": null,
   "id": "00569e66",
   "metadata": {},
   "outputs": [
    {
     "data": {
      "text/plain": [
       "[1, 2, 3, 4, 5, 6, 7, 8]"
      ]
     },
     "execution_count": 58,
     "metadata": {},
     "output_type": "execute_result"
    }
   ],
   "source": [
    "lst=[i for i in range(1,9)]\n",
    "#list is iterable all values have memory allcoation"
   ]
  },
  {
   "cell_type": "code",
   "execution_count": 59,
   "id": "455a694a",
   "metadata": {},
   "outputs": [
    {
     "data": {
      "text/plain": [
       "<list_iterator at 0x122f7ae3d30>"
      ]
     },
     "execution_count": 59,
     "metadata": {},
     "output_type": "execute_result"
    }
   ],
   "source": [
    "iter(lst)\n",
    "#list to iterator"
   ]
  },
  {
   "cell_type": "code",
   "execution_count": 62,
   "id": "51681c80",
   "metadata": {},
   "outputs": [],
   "source": [
    "#props of iterators\n",
    "#not all have dedicated memory allocation\n",
    "#use 'next' to intilize in memo\n",
    "lst1=iter(lst)"
   ]
  },
  {
   "cell_type": "code",
   "execution_count": 63,
   "id": "5e164df4",
   "metadata": {},
   "outputs": [
    {
     "data": {
      "text/plain": [
       "1"
      ]
     },
     "execution_count": 63,
     "metadata": {},
     "output_type": "execute_result"
    }
   ],
   "source": [
    "next(lst1)"
   ]
  },
  {
   "cell_type": "code",
   "execution_count": 64,
   "id": "b42d623d",
   "metadata": {},
   "outputs": [
    {
     "data": {
      "text/plain": [
       "2"
      ]
     },
     "execution_count": 64,
     "metadata": {},
     "output_type": "execute_result"
    }
   ],
   "source": [
    "next(lst1)"
   ]
  },
  {
   "cell_type": "code",
   "execution_count": 65,
   "id": "4f607868",
   "metadata": {},
   "outputs": [
    {
     "name": "stdout",
     "output_type": "stream",
     "text": [
      "3\n",
      "4\n",
      "5\n",
      "6\n",
      "7\n",
      "8\n"
     ]
    }
   ],
   "source": [
    "#use when len(lst)>>>>> use for loop for next\n",
    "for i in lst1:\n",
    "  print(i)"
   ]
  },
  {
   "cell_type": "code",
   "execution_count": null,
   "id": "ee042a73",
   "metadata": {},
   "outputs": [],
   "source": []
  }
 ],
 "metadata": {
  "kernelspec": {
   "display_name": "Python 3",
   "language": "python",
   "name": "python3"
  },
  "language_info": {
   "codemirror_mode": {
    "name": "ipython",
    "version": 3
   },
   "file_extension": ".py",
   "mimetype": "text/x-python",
   "name": "python",
   "nbconvert_exporter": "python",
   "pygments_lexer": "ipython3",
   "version": "3.11.2"
  }
 },
 "nbformat": 4,
 "nbformat_minor": 5
}
