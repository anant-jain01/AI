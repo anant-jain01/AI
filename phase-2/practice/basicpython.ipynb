{
 "cells": [
  {
   "cell_type": "markdown",
   "id": "cb7e4bc7",
   "metadata": {},
   "source": [
    "Map Function\n"
   ]
  },
  {
   "cell_type": "code",
   "execution_count": 1,
   "id": "6743de25",
   "metadata": {},
   "outputs": [],
   "source": [
    "import numpy as np"
   ]
  },
  {
   "cell_type": "code",
   "execution_count": 2,
   "id": "ab911670",
   "metadata": {},
   "outputs": [],
   "source": [
    "def function(num):\n",
    "  if num%2==0:\n",
    "    return \"num {} is even\".format(num)\n",
    "  return \"num {} is odd\".format(num)"
   ]
  },
  {
   "cell_type": "code",
   "execution_count": 3,
   "id": "fac525e3",
   "metadata": {},
   "outputs": [
    {
     "data": {
      "text/plain": [
       "array([], dtype=int64)"
      ]
     },
     "execution_count": 3,
     "metadata": {},
     "output_type": "execute_result"
    }
   ],
   "source": [
    "lst=np.arange(np.random.randint(40),np.random.randint(40))\n",
    "lst"
   ]
  },
  {
   "cell_type": "code",
   "execution_count": 4,
   "id": "86c51dd3",
   "metadata": {},
   "outputs": [
    {
     "data": {
      "text/plain": [
       "[]"
      ]
     },
     "execution_count": 4,
     "metadata": {},
     "output_type": "execute_result"
    }
   ],
   "source": [
    "list(map(function,lst))"
   ]
  },
  {
   "cell_type": "markdown",
   "id": "7a419c3f",
   "metadata": {},
   "source": [
    "LAMBDA FUNCTION (ANONYMUS FUNCTION)\n"
   ]
  },
  {
   "cell_type": "code",
   "execution_count": 5,
   "id": "45775425",
   "metadata": {},
   "outputs": [],
   "source": [
    "def function(a,b):\n",
    "  return a+b\n",
    "#lambda works for one line functions"
   ]
  },
  {
   "cell_type": "code",
   "execution_count": 6,
   "id": "63a5a479",
   "metadata": {},
   "outputs": [
    {
     "data": {
      "text/plain": [
       "15"
      ]
     },
     "execution_count": 6,
     "metadata": {},
     "output_type": "execute_result"
    }
   ],
   "source": [
    "function(5,10)"
   ]
  },
  {
   "cell_type": "code",
   "execution_count": 7,
   "id": "9ac622ff",
   "metadata": {},
   "outputs": [],
   "source": [
    "x=lambda a,b:a+b"
   ]
  },
  {
   "cell_type": "code",
   "execution_count": 8,
   "id": "1b309bfd",
   "metadata": {},
   "outputs": [
    {
     "data": {
      "text/plain": [
       "11"
      ]
     },
     "execution_count": 8,
     "metadata": {},
     "output_type": "execute_result"
    }
   ],
   "source": [
    "x(5,6)"
   ]
  },
  {
   "cell_type": "code",
   "execution_count": 9,
   "id": "786e84dc",
   "metadata": {},
   "outputs": [],
   "source": [
    "even_or_odd=lambda a:'even' if a%2==0 else \"odd\""
   ]
  },
  {
   "cell_type": "code",
   "execution_count": 10,
   "id": "61fbea17",
   "metadata": {},
   "outputs": [
    {
     "data": {
      "text/plain": [
       "'even'"
      ]
     },
     "execution_count": 10,
     "metadata": {},
     "output_type": "execute_result"
    }
   ],
   "source": [
    "even_or_odd(60)"
   ]
  },
  {
   "cell_type": "code",
   "execution_count": 11,
   "id": "20201fd7",
   "metadata": {},
   "outputs": [],
   "source": [
    "add= lambda a,b,c:a+b+c"
   ]
  },
  {
   "cell_type": "code",
   "execution_count": 12,
   "id": "d709570f",
   "metadata": {},
   "outputs": [
    {
     "data": {
      "text/plain": [
       "15"
      ]
     },
     "execution_count": 12,
     "metadata": {},
     "output_type": "execute_result"
    }
   ],
   "source": [
    "add(4,5,6)"
   ]
  },
  {
   "cell_type": "markdown",
   "id": "56c88c18",
   "metadata": {},
   "source": [
    "FILTER FUNCTION\n"
   ]
  },
  {
   "cell_type": "code",
   "execution_count": 13,
   "id": "4927176e",
   "metadata": {},
   "outputs": [],
   "source": [
    "def function(a):\n",
    "  return a%2==0"
   ]
  },
  {
   "cell_type": "code",
   "execution_count": 14,
   "id": "d01fd728",
   "metadata": {},
   "outputs": [
    {
     "data": {
      "text/plain": [
       "array([], dtype=int64)"
      ]
     },
     "execution_count": 14,
     "metadata": {},
     "output_type": "execute_result"
    }
   ],
   "source": [
    "lst=np.arange(np.random.randint(40),np.random.randint(41))\n",
    "lst"
   ]
  },
  {
   "cell_type": "code",
   "execution_count": 15,
   "id": "8afdd708",
   "metadata": {},
   "outputs": [
    {
     "data": {
      "text/plain": [
       "[]"
      ]
     },
     "execution_count": 15,
     "metadata": {},
     "output_type": "execute_result"
    }
   ],
   "source": [
    "[int(x) for x in filter(function,lst)]"
   ]
  },
  {
   "cell_type": "code",
   "execution_count": 16,
   "id": "0b7d59db",
   "metadata": {},
   "outputs": [
    {
     "data": {
      "text/plain": [
       "[]"
      ]
     },
     "execution_count": 16,
     "metadata": {},
     "output_type": "execute_result"
    }
   ],
   "source": [
    "[int(x) for x in filter(lambda num: num%2==0,lst)]"
   ]
  },
  {
   "cell_type": "code",
   "execution_count": 17,
   "id": "cc0e713a",
   "metadata": {},
   "outputs": [
    {
     "data": {
      "text/plain": [
       "[2, 4, 6, 8]"
      ]
     },
     "execution_count": 17,
     "metadata": {},
     "output_type": "execute_result"
    }
   ],
   "source": [
    "#if\n",
    "lst=[1,2,3,4,5,6,7,8,9]\n",
    "list(filter(lambda x:x%2==0,lst))"
   ]
  },
  {
   "cell_type": "markdown",
   "id": "3df0db5e",
   "metadata": {},
   "source": [
    "LIST COMPREHENSION\n"
   ]
  },
  {
   "cell_type": "code",
   "execution_count": 18,
   "id": "6922966a",
   "metadata": {},
   "outputs": [
    {
     "data": {
      "text/plain": [
       "[1, 4, 9, 16, 25, 36]"
      ]
     },
     "execution_count": 18,
     "metadata": {},
     "output_type": "execute_result"
    }
   ],
   "source": [
    "lst1=[]\n",
    "def function(lst):\n",
    "  for i in lst:\n",
    "    lst1.append(i**2)\n",
    "  return lst1\n",
    "function([1,2,3,4,5,6])"
   ]
  },
  {
   "cell_type": "code",
   "execution_count": 19,
   "id": "57e2b077",
   "metadata": {},
   "outputs": [
    {
     "data": {
      "text/plain": [
       "[1, 4, 9, 16, 25, 36]"
      ]
     },
     "execution_count": 19,
     "metadata": {},
     "output_type": "execute_result"
    }
   ],
   "source": [
    "lst=[1,2,3,4,5,6]\n",
    "[i**2 for i in lst]#list comprehension"
   ]
  },
  {
   "cell_type": "markdown",
   "id": "255e7812",
   "metadata": {},
   "source": [
    "FORMATTING\n"
   ]
  },
  {
   "cell_type": "code",
   "execution_count": 20,
   "id": "f5c5dfc0",
   "metadata": {},
   "outputs": [
    {
     "data": {
      "text/plain": [
       "'hello me. Damn you are 26 years old'"
      ]
     },
     "execution_count": 20,
     "metadata": {},
     "output_type": "execute_result"
    }
   ],
   "source": [
    "def function(a,b):\n",
    "  return \"hello {}. Damn you are {} years old\".format(a,b)\n",
    "function(\"me\",26)"
   ]
  },
  {
   "cell_type": "markdown",
   "id": "ef9311e3",
   "metadata": {},
   "source": [
    "ITERABLESVS TIERATORS\n"
   ]
  },
  {
   "cell_type": "code",
   "execution_count": 21,
   "id": "00569e66",
   "metadata": {},
   "outputs": [],
   "source": [
    "lst=[i for i in range(1,9)]\n",
    "#list is iterable all values have memory allcoation"
   ]
  },
  {
   "cell_type": "code",
   "execution_count": 22,
   "id": "455a694a",
   "metadata": {},
   "outputs": [
    {
     "data": {
      "text/plain": [
       "<list_iterator at 0x2197802fb20>"
      ]
     },
     "execution_count": 22,
     "metadata": {},
     "output_type": "execute_result"
    }
   ],
   "source": [
    "iter(lst)\n",
    "#list to iterator"
   ]
  },
  {
   "cell_type": "code",
   "execution_count": 23,
   "id": "51681c80",
   "metadata": {},
   "outputs": [],
   "source": [
    "#props of iterators\n",
    "#not all have dedicated memory allocation\n",
    "#use 'next' to intilize in memo\n",
    "lst1=iter(lst)"
   ]
  },
  {
   "cell_type": "code",
   "execution_count": 27,
   "id": "5e164df4",
   "metadata": {},
   "outputs": [
    {
     "ename": "StopIteration",
     "evalue": "",
     "output_type": "error",
     "traceback": [
      "\u001b[1;31m---------------------------------------------------------------------------\u001b[0m",
      "\u001b[1;31mStopIteration\u001b[0m                             Traceback (most recent call last)",
      "Cell \u001b[1;32mIn[27], line 1\u001b[0m\n\u001b[1;32m----> 1\u001b[0m \u001b[38;5;28;43mnext\u001b[39;49m\u001b[43m(\u001b[49m\u001b[43mlst1\u001b[49m\u001b[43m)\u001b[49m\n",
      "\u001b[1;31mStopIteration\u001b[0m: "
     ]
    }
   ],
   "source": [
    "next(lst1)"
   ]
  },
  {
   "cell_type": "code",
   "execution_count": 25,
   "id": "b42d623d",
   "metadata": {},
   "outputs": [
    {
     "data": {
      "text/plain": [
       "2"
      ]
     },
     "execution_count": 25,
     "metadata": {},
     "output_type": "execute_result"
    }
   ],
   "source": [
    "next(lst1)"
   ]
  },
  {
   "cell_type": "code",
   "execution_count": 26,
   "id": "4f607868",
   "metadata": {},
   "outputs": [
    {
     "name": "stdout",
     "output_type": "stream",
     "text": [
      "3\n",
      "4\n",
      "5\n",
      "6\n",
      "7\n",
      "8\n"
     ]
    }
   ],
   "source": [
    "#use when len(lst)>>>>> use for loop for next\n",
    "for i in lst1:\n",
    "  print(i)"
   ]
  },
  {
   "cell_type": "markdown",
   "id": "511b2834",
   "metadata": {},
   "source": [
    "**USE PYFOREST FOR LAZY IMPORT (IMPORT _ FROM _ ) PIP INSTALL**\n"
   ]
  },
  {
   "cell_type": "markdown",
   "id": "360ba894",
   "metadata": {},
   "source": [
    "OOPS IN PYTHON\n"
   ]
  },
  {
   "cell_type": "code",
   "execution_count": 28,
   "id": "ee042a73",
   "metadata": {},
   "outputs": [],
   "source": [
    "class car:\n",
    "  pass"
   ]
  },
  {
   "cell_type": "code",
   "execution_count": 30,
   "id": "9b05356d",
   "metadata": {},
   "outputs": [],
   "source": [
    "car1=car()\n",
    "car1.windows=5\n",
    "car1.door=4"
   ]
  },
  {
   "cell_type": "code",
   "execution_count": 32,
   "id": "d3187f2a",
   "metadata": {},
   "outputs": [],
   "source": [
    "car2=car()\n",
    "car2.windows=3\n",
    "car2.doors=3"
   ]
  },
  {
   "cell_type": "code",
   "execution_count": 33,
   "id": "798c75e3",
   "metadata": {},
   "outputs": [],
   "source": [
    "car2.engine=\"petrol\""
   ]
  },
  {
   "cell_type": "code",
   "execution_count": 50,
   "id": "374b05e6",
   "metadata": {},
   "outputs": [],
   "source": [
    "class car:\n",
    "  def __init__(self,window,door,engine):\n",
    "    self.window=window\n",
    "    self.door=door\n",
    "    self.engine=engine\n",
    "  def sound(self):\n",
    "    return \"more silent cause fia\" if self.engine==\"hybrid\" else \"loud\""
   ]
  },
  {
   "cell_type": "code",
   "execution_count": 52,
   "id": "3c739e98",
   "metadata": {},
   "outputs": [
    {
     "name": "stdout",
     "output_type": "stream",
     "text": [
      "4\n",
      "more silent cause fia\n"
     ]
    }
   ],
   "source": [
    "car1=car(4,5,\"v10\")\n",
    "car2=car(0,0,\"hybrid\")\n",
    "print(car1.window)\n",
    "print(car2.sound())"
   ]
  },
  {
   "cell_type": "markdown",
   "id": "442e13ec",
   "metadata": {},
   "source": [
    "ACCESS\n"
   ]
  },
  {
   "cell_type": "code",
   "execution_count": 1,
   "id": "bf810ffc",
   "metadata": {},
   "outputs": [],
   "source": [
    "#public\n",
    "class car():\n",
    "  def __init__(self,window,door,engine):\n",
    "    self.window=window\n",
    "    self.door=door\n",
    "    self.engine=engine"
   ]
  },
  {
   "cell_type": "code",
   "execution_count": 8,
   "id": "45119370",
   "metadata": {},
   "outputs": [],
   "source": [
    "#protected use _bfore var name\n",
    "class car():  \n",
    "  def __init__(self,window,door,engine):\n",
    "    self._window=window\n",
    "    self._door=door\n",
    "    self._engine=engine"
   ]
  },
  {
   "cell_type": "code",
   "execution_count": 13,
   "id": "014e6eab",
   "metadata": {},
   "outputs": [
    {
     "data": {
      "text/plain": [
       "['__class__',\n",
       " '__delattr__',\n",
       " '__dict__',\n",
       " '__dir__',\n",
       " '__doc__',\n",
       " '__eq__',\n",
       " '__format__',\n",
       " '__ge__',\n",
       " '__getattribute__',\n",
       " '__getstate__',\n",
       " '__gt__',\n",
       " '__hash__',\n",
       " '__init__',\n",
       " '__init_subclass__',\n",
       " '__le__',\n",
       " '__lt__',\n",
       " '__module__',\n",
       " '__ne__',\n",
       " '__new__',\n",
       " '__reduce__',\n",
       " '__reduce_ex__',\n",
       " '__repr__',\n",
       " '__setattr__',\n",
       " '__sizeof__',\n",
       " '__str__',\n",
       " '__subclasshook__',\n",
       " '__weakref__',\n",
       " '_car__door',\n",
       " '_car__engine',\n",
       " '_car__window']"
      ]
     },
     "execution_count": 13,
     "metadata": {},
     "output_type": "execute_result"
    }
   ],
   "source": [
    "car1=car(4,4,\"v10\")\n",
    "dir(car1)"
   ]
  },
  {
   "cell_type": "code",
   "execution_count": 10,
   "id": "2a3a2be2",
   "metadata": {},
   "outputs": [],
   "source": [
    "class truck(car):\n",
    "  def __init__(self,window,door,engine,hp):\n",
    "    super().__init__(window,door,engine)\n",
    "    self.hp=hp"
   ]
  },
  {
   "cell_type": "code",
   "execution_count": 7,
   "id": "d8e00043",
   "metadata": {},
   "outputs": [
    {
     "data": {
      "text/plain": [
       "['__class__',\n",
       " '__delattr__',\n",
       " '__dict__',\n",
       " '__dir__',\n",
       " '__doc__',\n",
       " '__eq__',\n",
       " '__format__',\n",
       " '__ge__',\n",
       " '__getattribute__',\n",
       " '__getstate__',\n",
       " '__gt__',\n",
       " '__hash__',\n",
       " '__init__',\n",
       " '__init_subclass__',\n",
       " '__le__',\n",
       " '__lt__',\n",
       " '__module__',\n",
       " '__ne__',\n",
       " '__new__',\n",
       " '__reduce__',\n",
       " '__reduce_ex__',\n",
       " '__repr__',\n",
       " '__setattr__',\n",
       " '__sizeof__',\n",
       " '__str__',\n",
       " '__subclasshook__',\n",
       " '__weakref__']"
      ]
     },
     "execution_count": 7,
     "metadata": {},
     "output_type": "execute_result"
    }
   ],
   "source": [
    "truck(4,4,\"v10\",230)\n",
    "dir(truck)"
   ]
  },
  {
   "cell_type": "code",
   "execution_count": 11,
   "id": "f8f838c5",
   "metadata": {},
   "outputs": [
    {
     "data": {
      "text/plain": [
       "50"
      ]
     },
     "execution_count": 11,
     "metadata": {},
     "output_type": "execute_result"
    }
   ],
   "source": [
    "truck._door=50\n",
    "truck._door"
   ]
  },
  {
   "cell_type": "code",
   "execution_count": 12,
   "id": "9624bb69",
   "metadata": {},
   "outputs": [],
   "source": [
    "#privte\n",
    "class car():\n",
    "  def __init__(self,window,door,engine):\n",
    "    self.__window=window\n",
    "    self.__door=door\n",
    "    self.__engine=engine"
   ]
  },
  {
   "cell_type": "code",
   "execution_count": 14,
   "id": "e68c2edb",
   "metadata": {},
   "outputs": [],
   "source": [
    "#pythn has no restriction means you can change anywhere but name change"
   ]
  },
  {
   "cell_type": "markdown",
   "id": "d46f83fd",
   "metadata": {},
   "source": [
    "INHERTIANCE\n"
   ]
  },
  {
   "cell_type": "code",
   "execution_count": 19,
   "id": "9f75ab39",
   "metadata": {},
   "outputs": [],
   "source": [
    "class car():\n",
    "  def __init__(self,window,door,engine):\n",
    "    self.window=window\n",
    "    self.door=door\n",
    "    self.engine=engine\n",
    "  def drive(self):\n",
    "    print(\"driving\")\n",
    "#add self in fucntions"
   ]
  },
  {
   "cell_type": "code",
   "execution_count": 20,
   "id": "bb7c4207",
   "metadata": {},
   "outputs": [
    {
     "name": "stdout",
     "output_type": "stream",
     "text": [
      "driving\n"
     ]
    }
   ],
   "source": [
    "new_car=car(4,4,\"v10\")\n",
    "new_car.drive()"
   ]
  },
  {
   "cell_type": "code",
   "execution_count": null,
   "id": "5068246c",
   "metadata": {},
   "outputs": [
    {
     "ename": "SyntaxError",
     "evalue": "incomplete input (1636883622.py, line 1)",
     "output_type": "error",
     "traceback": [
      "\u001b[1;36m  Cell \u001b[1;32mIn[21], line 1\u001b[1;36m\u001b[0m\n\u001b[1;33m    class audi(car):\u001b[0m\n\u001b[1;37m                    ^\u001b[0m\n\u001b[1;31mSyntaxError\u001b[0m\u001b[1;31m:\u001b[0m incomplete input\n"
     ]
    }
   ],
   "source": [
    "class audi(car):\n",
    "  def __init__(self, window, door, engine,ai):\n",
    "    super().__init__(window, door, engine)"
   ]
  },
  {
   "cell_type": "code",
   "execution_count": null,
   "id": "7a8eda52",
   "metadata": {},
   "outputs": [],
   "source": []
  },
  {
   "cell_type": "code",
   "execution_count": null,
   "id": "39919549",
   "metadata": {},
   "outputs": [],
   "source": []
  }
 ],
 "metadata": {
  "kernelspec": {
   "display_name": "Python 3",
   "language": "python",
   "name": "python3"
  },
  "language_info": {
   "codemirror_mode": {
    "name": "ipython",
    "version": 3
   },
   "file_extension": ".py",
   "mimetype": "text/x-python",
   "name": "python",
   "nbconvert_exporter": "python",
   "pygments_lexer": "ipython3",
   "version": "3.11.2"
  }
 },
 "nbformat": 4,
 "nbformat_minor": 5
}
