{
 "cells": [
  {
   "cell_type": "markdown",
   "id": "cb7e4bc7",
   "metadata": {},
   "source": [
    "Map Function\n"
   ]
  },
  {
   "cell_type": "code",
   "execution_count": 3,
   "id": "6743de25",
   "metadata": {},
   "outputs": [],
   "source": [
    "import numpy as np"
   ]
  },
  {
   "cell_type": "code",
   "execution_count": 1,
   "id": "ab911670",
   "metadata": {},
   "outputs": [],
   "source": [
    "def function(num):\n",
    "  if num%2==0:\n",
    "    return \"num {} is even\".format(num)\n",
    "  return \"num {} is odd\".format(num)"
   ]
  },
  {
   "cell_type": "code",
   "execution_count": 12,
   "id": "fac525e3",
   "metadata": {},
   "outputs": [
    {
     "data": {
      "text/plain": [
       "array([30, 31, 32, 33, 34, 35, 36])"
      ]
     },
     "execution_count": 12,
     "metadata": {},
     "output_type": "execute_result"
    }
   ],
   "source": [
    "lst=np.arange(np.random.randint(40),np.random.randint(40))\n",
    "lst"
   ]
  },
  {
   "cell_type": "code",
   "execution_count": 13,
   "id": "86c51dd3",
   "metadata": {},
   "outputs": [
    {
     "data": {
      "text/plain": [
       "['num 30 is even',\n",
       " 'num 31 is odd',\n",
       " 'num 32 is even',\n",
       " 'num 33 is odd',\n",
       " 'num 34 is even',\n",
       " 'num 35 is odd',\n",
       " 'num 36 is even']"
      ]
     },
     "execution_count": 13,
     "metadata": {},
     "output_type": "execute_result"
    }
   ],
   "source": [
    "list(map(function,lst))"
   ]
  },
  {
   "cell_type": "markdown",
   "id": "7a419c3f",
   "metadata": {},
   "source": [
    "LAMBDA FUNCTION (ANONYMUS FUNCTION)"
   ]
  },
  {
   "cell_type": "code",
   "execution_count": null,
   "id": "45775425",
   "metadata": {},
   "outputs": [],
   "source": [
    "def function(a,b):\n",
    "  return a+b\n",
    "#lambda works for one line functions"
   ]
  },
  {
   "cell_type": "code",
   "execution_count": 15,
   "id": "63a5a479",
   "metadata": {},
   "outputs": [
    {
     "data": {
      "text/plain": [
       "15"
      ]
     },
     "execution_count": 15,
     "metadata": {},
     "output_type": "execute_result"
    }
   ],
   "source": [
    "function(5,10)"
   ]
  },
  {
   "cell_type": "code",
   "execution_count": 16,
   "id": "9ac622ff",
   "metadata": {},
   "outputs": [],
   "source": [
    "x=lambda a,b:a+b"
   ]
  },
  {
   "cell_type": "code",
   "execution_count": 17,
   "id": "1b309bfd",
   "metadata": {},
   "outputs": [
    {
     "data": {
      "text/plain": [
       "11"
      ]
     },
     "execution_count": 17,
     "metadata": {},
     "output_type": "execute_result"
    }
   ],
   "source": [
    "x(5,6)"
   ]
  },
  {
   "cell_type": "code",
   "execution_count": 24,
   "id": "786e84dc",
   "metadata": {},
   "outputs": [],
   "source": [
    "even_or_odd=lambda a:'even' if a%2==0 else \"odd\""
   ]
  },
  {
   "cell_type": "code",
   "execution_count": 25,
   "id": "61fbea17",
   "metadata": {},
   "outputs": [
    {
     "data": {
      "text/plain": [
       "'even'"
      ]
     },
     "execution_count": 25,
     "metadata": {},
     "output_type": "execute_result"
    }
   ],
   "source": [
    "even_or_odd(60)"
   ]
  },
  {
   "cell_type": "code",
   "execution_count": 26,
   "id": "20201fd7",
   "metadata": {},
   "outputs": [],
   "source": [
    "add= lambda a,b,c:a+b+c"
   ]
  },
  {
   "cell_type": "code",
   "execution_count": 27,
   "id": "d709570f",
   "metadata": {},
   "outputs": [
    {
     "data": {
      "text/plain": [
       "15"
      ]
     },
     "execution_count": 27,
     "metadata": {},
     "output_type": "execute_result"
    }
   ],
   "source": [
    "add(4,5,6)"
   ]
  },
  {
   "cell_type": "code",
   "execution_count": null,
   "id": "eec0535a",
   "metadata": {},
   "outputs": [],
   "source": []
  }
 ],
 "metadata": {
  "kernelspec": {
   "display_name": "Python 3",
   "language": "python",
   "name": "python3"
  },
  "language_info": {
   "codemirror_mode": {
    "name": "ipython",
    "version": 3
   },
   "file_extension": ".py",
   "mimetype": "text/x-python",
   "name": "python",
   "nbconvert_exporter": "python",
   "pygments_lexer": "ipython3",
   "version": "3.11.2"
  }
 },
 "nbformat": 4,
 "nbformat_minor": 5
}
